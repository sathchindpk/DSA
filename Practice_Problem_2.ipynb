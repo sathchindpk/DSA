{
  "nbformat": 4,
  "nbformat_minor": 0,
  "metadata": {
    "colab": {
      "provenance": [],
      "authorship_tag": "ABX9TyMdb60fzOTxwAOqbmHUgBoX",
      "include_colab_link": true
    },
    "kernelspec": {
      "name": "python3",
      "display_name": "Python 3"
    },
    "language_info": {
      "name": "python"
    }
  },
  "cells": [
    {
      "cell_type": "markdown",
      "metadata": {
        "id": "view-in-github",
        "colab_type": "text"
      },
      "source": [
        "<a href=\"https://colab.research.google.com/github/sathchindpk/DSA/blob/main/Practice_Problem_2.ipynb\" target=\"_parent\"><img src=\"https://colab.research.google.com/assets/colab-badge.svg\" alt=\"Open In Colab\"/></a>"
      ]
    },
    {
      "cell_type": "code",
      "execution_count": 2,
      "metadata": {
        "colab": {
          "base_uri": "https://localhost:8080/"
        },
        "id": "qI-g0F3ACj-F",
        "outputId": "fc7222ba-b670-47de-bff3-faaf42f0b303"
      },
      "outputs": [
        {
          "output_type": "stream",
          "name": "stdout",
          "text": [
            "Enter a string value: welcome to python\n",
            "{'w': 1, 'e': 2, 'l': 1, 'c': 1, 'o': 3, 'm': 1, ' ': 2, 't': 2, 'p': 1, 'y': 1, 'h': 1, 'n': 1}\n"
          ]
        }
      ],
      "source": [
        "def char_frequency(str1):\n",
        "    dict = {}\n",
        "    for n in str1:\n",
        "        keys = dict.keys()\n",
        "        if n in keys:\n",
        "            dict[n] += 1\n",
        "        else:\n",
        "            dict[n] = 1\n",
        "    return dict\n",
        "\n",
        "str1 = input(\"Enter a string value: \")\n",
        "print(char_frequency(str1))"
      ]
    },
    {
      "cell_type": "code",
      "source": [
        "def max_of_three(a, b, c):\n",
        "    return max(a, b, c)\n",
        "\n",
        "a = int(input(\"Enter first number: \"))\n",
        "b = int(input(\"Enter second number: \"))\n",
        "c = int(input(\"Enter third number: \"))\n",
        "\n",
        "print(\"Maximum of three numbers is: \", max_of_three(a, b, c))"
      ],
      "metadata": {
        "colab": {
          "base_uri": "https://localhost:8080/"
        },
        "id": "uea1TewZCm7V",
        "outputId": "98f75be1-b138-40f4-c383-9344612e8c8c"
      },
      "execution_count": 3,
      "outputs": [
        {
          "output_type": "stream",
          "name": "stdout",
          "text": [
            "Enter first number: 10\n",
            "Enter second number: 30\n",
            "Enter third number: 12\n",
            "Maximum of three numbers is:  30\n"
          ]
        }
      ]
    },
    {
      "cell_type": "code",
      "source": [
        "def exponent(base, exp):\n",
        "    return base ** exp\n",
        "\n",
        "base = int(input(\"Enter the base: \"))\n",
        "exp = int(input(\"Enter the exponent: \"))\n",
        "\n",
        "print(\"The result is: \", exponent(base, exp))"
      ],
      "metadata": {
        "colab": {
          "base_uri": "https://localhost:8080/"
        },
        "id": "eDdrT7udC9ay",
        "outputId": "eb5546b0-bb63-4b42-ec17-c8a7d300d918"
      },
      "execution_count": 4,
      "outputs": [
        {
          "output_type": "stream",
          "name": "stdout",
          "text": [
            "Enter the base: 10\n",
            "Enter the exponent: 20\n",
            "The result is:  100000000000000000000\n"
          ]
        }
      ]
    },
    {
      "cell_type": "code",
      "source": [
        "def sum_of_cubes(n):\n",
        "    return sum(i**3 for i in range(1, n))\n",
        "\n",
        "n = int(input(\"Enter a positive integer: \"))\n",
        "print(\"The sum of the cube of all the positive integers smaller than\", n, \"is:\", sum_of_cubes(n))"
      ],
      "metadata": {
        "colab": {
          "base_uri": "https://localhost:8080/"
        },
        "id": "83nw9F3dDTGe",
        "outputId": "e0c693cc-0186-4aeb-e602-a8d673395c71"
      },
      "execution_count": 5,
      "outputs": [
        {
          "output_type": "stream",
          "name": "stdout",
          "text": [
            "Enter a positive integer: 20\n",
            "The sum of the cube of all the positive integers smaller than 20 is: 36100\n"
          ]
        }
      ]
    },
    {
      "cell_type": "code",
      "source": [
        "for i in range(1, 11):\n",
        "    if i % 2 == 0 and i % 5 == 0:\n",
        "        print(\"FizzBuzz\")\n",
        "    elif i % 2 == 0:\n",
        "        print(\"Fizz\")\n",
        "    elif i % 5 == 0:\n",
        "        print(\"Buzz\")\n",
        "    else:\n",
        "        print(i)"
      ],
      "metadata": {
        "colab": {
          "base_uri": "https://localhost:8080/"
        },
        "id": "E543_zGHDWzi",
        "outputId": "a09d3400-9cd7-496e-da75-c1bd40600197"
      },
      "execution_count": 6,
      "outputs": [
        {
          "output_type": "stream",
          "name": "stdout",
          "text": [
            "1\n",
            "Fizz\n",
            "3\n",
            "Fizz\n",
            "Buzz\n",
            "Fizz\n",
            "7\n",
            "Fizz\n",
            "9\n",
            "FizzBuzz\n"
          ]
        }
      ]
    },
    {
      "cell_type": "code",
      "source": [
        "def most_frequent(nums):\n",
        "    return max(set(nums), key=nums.count)\n",
        "\n",
        "print(most_frequent([2, 3, 4, 2, 5, 2]))  # Output: 2"
      ],
      "metadata": {
        "colab": {
          "base_uri": "https://localhost:8080/"
        },
        "id": "zNynE3y8DeL5",
        "outputId": "5eed6503-2821-4c5e-d946-d49fc42ab91e"
      },
      "execution_count": 7,
      "outputs": [
        {
          "output_type": "stream",
          "name": "stdout",
          "text": [
            "2\n"
          ]
        }
      ]
    },
    {
      "cell_type": "code",
      "source": [
        "def sum_of_squares(nums):\n",
        "    return sum(i**2 for i in nums)\n",
        "\n",
        "print(sum_of_squares([2, 1, 3, 1]))  # Output: 15"
      ],
      "metadata": {
        "colab": {
          "base_uri": "https://localhost:8080/"
        },
        "id": "NGD3neLkDlun",
        "outputId": "14cb8fd7-167d-4008-d014-397712c4efd2"
      },
      "execution_count": 8,
      "outputs": [
        {
          "output_type": "stream",
          "name": "stdout",
          "text": [
            "15\n"
          ]
        }
      ]
    },
    {
      "cell_type": "code",
      "source": [
        "for i in range(1, 16):\n",
        "    if i % 2 == 0:\n",
        "        print(f\"{i}-even\")\n",
        "    else:\n",
        "        print(f\"{i}-odd\")"
      ],
      "metadata": {
        "colab": {
          "base_uri": "https://localhost:8080/"
        },
        "id": "TROVbMWODrac",
        "outputId": "e2dc1c76-bac6-4136-9d9a-e7aa80cddb08"
      },
      "execution_count": 9,
      "outputs": [
        {
          "output_type": "stream",
          "name": "stdout",
          "text": [
            "1-odd\n",
            "2-even\n",
            "3-odd\n",
            "4-even\n",
            "5-odd\n",
            "6-even\n",
            "7-odd\n",
            "8-even\n",
            "9-odd\n",
            "10-even\n",
            "11-odd\n",
            "12-even\n",
            "13-odd\n",
            "14-even\n",
            "15-odd\n"
          ]
        }
      ]
    },
    {
      "cell_type": "code",
      "source": [
        "def fahrenheit_to_celsius(f):\n",
        "    return (f - 32) * 5 / 9\n",
        "\n",
        "def celsius_to_fahrenheit(c):\n",
        "    return c * 9 / 5 + 32\n",
        "\n",
        "print(\"Convert temperatures between Celsius and Fahrenheit!\")\n",
        "\n",
        "while True:\n",
        "    print(\"Select an Option:\")\n",
        "    print(\"1. Convert Fahrenheit to Celsius\")\n",
        "    print(\"2. Convert Celsius to Fahrenheit\")\n",
        "    print(\"3. Exit\")\n",
        "\n",
        "    option = input(\"Enter an option: \")\n",
        "\n",
        "    if option == \"1\":\n",
        "        f = float(input(\"Enter temperature in Fahrenheit: \"))\n",
        "        c = fahrenheit_to_celsius(f)\n",
        "        print(f\"The temperature in Celsius is {c:.2f}.\")\n",
        "\n",
        "    elif option == \"2\":\n",
        "        c = float(input(\"Enter temperature in Celsius: \"))\n",
        "        f = celsius_to_fahrenheit(c)\n",
        "        print(f\"The temperature in Fahrenheit is {f:.2f}.\")\n",
        "\n",
        "    elif option == \"3\":\n",
        "        break\n",
        "\n",
        "    else:\n",
        "        print(\"Invalid option. Try again!\")"
      ],
      "metadata": {
        "colab": {
          "base_uri": "https://localhost:8080/"
        },
        "id": "kVzGKoFcEH5G",
        "outputId": "497aa041-8175-4c74-8f68-5264cfe74343"
      },
      "execution_count": 10,
      "outputs": [
        {
          "name": "stdout",
          "output_type": "stream",
          "text": [
            "Convert temperatures between Celsius and Fahrenheit!\n",
            "Select an Option:\n",
            "1. Convert Fahrenheit to Celsius\n",
            "2. Convert Celsius to Fahrenheit\n",
            "3. Exit\n",
            "Enter an option: 1\n",
            "Enter temperature in Fahrenheit: 30\n",
            "The temperature in Celsius is -1.11.\n",
            "Select an Option:\n",
            "1. Convert Fahrenheit to Celsius\n",
            "2. Convert Celsius to Fahrenheit\n",
            "3. Exit\n",
            "Enter an option: 3\n"
          ]
        }
      ]
    },
    {
      "cell_type": "code",
      "source": [
        "def factorial(n):\n",
        "    if n < 0:\n",
        "        return 0\n",
        "    elif n == 0 or n == 1:\n",
        "        return 1\n",
        "    else:\n",
        "        fact = 1\n",
        "        while(n > 1):\n",
        "            fact *= n\n",
        "            n -= 1\n",
        "        return fact"
      ],
      "metadata": {
        "id": "oplvzuTFEwVi"
      },
      "execution_count": 13,
      "outputs": []
    }
  ]
}