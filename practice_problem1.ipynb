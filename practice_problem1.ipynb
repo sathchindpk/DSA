{
  "nbformat": 4,
  "nbformat_minor": 0,
  "metadata": {
    "colab": {
      "provenance": [],
      "authorship_tag": "ABX9TyODhfVdY6yUJxMn2T+94u7r",
      "include_colab_link": true
    },
    "kernelspec": {
      "name": "python3",
      "display_name": "Python 3"
    },
    "language_info": {
      "name": "python"
    }
  },
  "cells": [
    {
      "cell_type": "markdown",
      "metadata": {
        "id": "view-in-github",
        "colab_type": "text"
      },
      "source": [
        "<a href=\"https://colab.research.google.com/github/sathchindpk/DSA/blob/main/practice_problem1.ipynb\" target=\"_parent\"><img src=\"https://colab.research.google.com/assets/colab-badge.svg\" alt=\"Open In Colab\"/></a>"
      ]
    },
    {
      "cell_type": "code",
      "execution_count": null,
      "metadata": {
        "colab": {
          "base_uri": "https://localhost:8080/"
        },
        "id": "pL2fx4RRRCvg",
        "outputId": "3b0b8f20-4a03-4e8c-f753-ac10bd05c831"
      },
      "outputs": [
        {
          "output_type": "stream",
          "name": "stdout",
          "text": [
            "Enter the radius: 20\n",
            "Area of Circle is 1256\n"
          ]
        }
      ],
      "source": [
        "PI = 3.14\n",
        "\n",
        "radius = float(input(\"Enter the radius: \"))\n",
        "\n",
        "area = PI * (radius ** 2)\n",
        "\n",
        "print(\"Area of Circle is\", round(area))"
      ]
    },
    {
      "cell_type": "code",
      "source": [
        "name = input(\"Enter the name: \")\n",
        "\n",
        "roll_number = int(input(\"Enter the roll number: \"))\n",
        "\n",
        "mark = int(input(\"Enter the mark: \"))\n",
        "\n",
        "print(\"Name:\", name)\n",
        "\n",
        "print(\"Roll No:\", roll_number)\n",
        "\n",
        "print(\"Mark:\", mark)"
      ],
      "metadata": {
        "colab": {
          "base_uri": "https://localhost:8080/"
        },
        "id": "alwg0lyHRDKb",
        "outputId": "38445fd1-20ab-48cf-9868-56ed9d205367"
      },
      "execution_count": null,
      "outputs": [
        {
          "output_type": "stream",
          "name": "stdout",
          "text": [
            "Enter the name: Sachu\n",
            "Enter the roll number: 23\n",
            "Enter the mark: 80\n",
            "Name: Sachu\n",
            "Roll No: 23\n",
            "Mark: 80\n"
          ]
        }
      ]
    },
    {
      "cell_type": "code",
      "source": [
        "numbers = input(\"Enter a list of numbers separated by comma: \")\n",
        "\n",
        "numbers_list = [int(num) for num in numbers.split(\",\")]\n",
        "\n",
        "\n",
        "\n",
        "largest_number = max(numbers_list)\n",
        "\n",
        "\n",
        "\n",
        "print(f\"{largest_number} is the largest number\")"
      ],
      "metadata": {
        "colab": {
          "base_uri": "https://localhost:8080/"
        },
        "id": "rikXPWHsRahM",
        "outputId": "27371943-e337-4e5a-98a3-1b207d25e0bc"
      },
      "execution_count": null,
      "outputs": [
        {
          "output_type": "stream",
          "name": "stdout",
          "text": [
            "Enter a list of numbers separated by comma: 10,8,50,80,20,35\n",
            "80 is the largest number\n"
          ]
        }
      ]
    },
    {
      "cell_type": "code",
      "source": [
        "start = 1\n",
        "\n",
        "end = 10\n",
        "\n",
        "\n",
        "\n",
        "previous_number = 0\n",
        "\n",
        "\n",
        "\n",
        "for i in range(start, end + 1):\n",
        "\n",
        "    print(f\"Current Number {i} Previous Number {previous_number} Sum: {i + previous_number}\")\n",
        "\n",
        "    previous_number = i"
      ],
      "metadata": {
        "colab": {
          "base_uri": "https://localhost:8080/"
        },
        "id": "yampNe4TRgTX",
        "outputId": "77723e95-c797-4ad7-e5ac-7d28ceb39339"
      },
      "execution_count": null,
      "outputs": [
        {
          "output_type": "stream",
          "name": "stdout",
          "text": [
            "Current Number 1 Previous Number 0 Sum: 1\n",
            "Current Number 2 Previous Number 1 Sum: 3\n",
            "Current Number 3 Previous Number 2 Sum: 5\n",
            "Current Number 4 Previous Number 3 Sum: 7\n",
            "Current Number 5 Previous Number 4 Sum: 9\n",
            "Current Number 6 Previous Number 5 Sum: 11\n",
            "Current Number 7 Previous Number 6 Sum: 13\n",
            "Current Number 8 Previous Number 7 Sum: 15\n",
            "Current Number 9 Previous Number 8 Sum: 17\n",
            "Current Number 10 Previous Number 9 Sum: 19\n"
          ]
        }
      ]
    },
    {
      "cell_type": "code",
      "source": [
        "numbers = input(\"Enter a list of numbers separated by comma: \")\n",
        "\n",
        "numbers_list = [int(num) for num in numbers.split(\",\")]\n",
        "\n",
        "\n",
        "\n",
        "for num in numbers_list:\n",
        "\n",
        "    if num % 5 == 0:\n",
        "\n",
        "        print(num, end=\", \")\n",
        "\n",
        "\n",
        "\n",
        "print()"
      ],
      "metadata": {
        "colab": {
          "base_uri": "https://localhost:8080/"
        },
        "id": "VtxNP_MdRj_8",
        "outputId": "2979c193-39f1-4eb2-d634-478a10a6db5a"
      },
      "execution_count": null,
      "outputs": [
        {
          "output_type": "stream",
          "name": "stdout",
          "text": [
            "Enter a list of numbers separated by comma: 10,20,30,50,60\n",
            "10, 20, 30, 50, 60, \n"
          ]
        }
      ]
    },
    {
      "cell_type": "code",
      "source": [
        "def is_prime(n):\n",
        "\n",
        "    if n <= 1:\n",
        "\n",
        "        return False\n",
        "\n",
        "    for i in range(2, int(n ** 0.5) + 1):\n",
        "\n",
        "        if n % i == 0:\n",
        "\n",
        "            return False\n",
        "\n",
        "    return True\n",
        "\n",
        "\n",
        "\n",
        "num = int(input(\"Enter the number: \"))\n",
        "\n",
        "\n",
        "\n",
        "if is_prime(num):\n",
        "\n",
        "    print(f\"{num} is a prime number.\")\n",
        "\n",
        "else:\n",
        "\n",
        "    print(f\"{num} is not a prime number.\")"
      ],
      "metadata": {
        "colab": {
          "base_uri": "https://localhost:8080/"
        },
        "id": "ahlvOziaRpVt",
        "outputId": "d1b1451f-0af3-4235-ce68-a1cf45dcf924"
      },
      "execution_count": null,
      "outputs": [
        {
          "output_type": "stream",
          "name": "stdout",
          "text": [
            "Enter the number: 33\n",
            "33 is not a prime number.\n"
          ]
        }
      ]
    },
    {
      "cell_type": "code",
      "source": [
        "def reverse_list(lst):\n",
        "\n",
        "    reversed_lst = []\n",
        "\n",
        "    for i in range(len(lst) - 1, -1, -1):\n",
        "\n",
        "        reversed_lst.append(lst[i])\n",
        "\n",
        "    return reversed_lst\n",
        "\n",
        "\n",
        "\n",
        "numbers = input(\"Enter a list of numbers separated by comma: \")\n",
        "\n",
        "numbers_list = [int(num) for num in numbers.split(\",\")]\n",
        "\n",
        "\n",
        "\n",
        "reversed_numbers = reverse_list(numbers_list)\n",
        "\n",
        "\n",
        "\n",
        "print(\"Reversed list: \", end=\"\")\n",
        "\n",
        "for num in reversed_numbers:\n",
        "\n",
        "    print(num, end=\", \")\n",
        "\n",
        "print()\n",
        "\n"
      ],
      "metadata": {
        "colab": {
          "base_uri": "https://localhost:8080/"
        },
        "id": "CWSF864nRs1N",
        "outputId": "3b9e4c30-78ad-4173-a6d3-38e4b1bedfb9"
      },
      "execution_count": null,
      "outputs": [
        {
          "output_type": "stream",
          "name": "stdout",
          "text": [
            "Enter a list of numbers separated by comma: 10,8,5,20,15,35,40\n",
            "Reversed list: 40, 35, 15, 20, 5, 8, 10, \n"
          ]
        }
      ]
    },
    {
      "cell_type": "code",
      "source": [
        "n = 4  # number of rows\n",
        "\n",
        "\n",
        "\n",
        "for i in range(1, n + 1):\n",
        "\n",
        "    print(\"*\" * i)"
      ],
      "metadata": {
        "colab": {
          "base_uri": "https://localhost:8080/"
        },
        "id": "CE_g7VUYRx8d",
        "outputId": "ddebe4a4-2ae3-4fd9-db72-bf1c43337011"
      },
      "execution_count": null,
      "outputs": [
        {
          "output_type": "stream",
          "name": "stdout",
          "text": [
            "*\n",
            "**\n",
            "***\n",
            "****\n"
          ]
        }
      ]
    },
    {
      "cell_type": "code",
      "source": [
        "def find_max(a, b, c):\n",
        "\n",
        "    if a >= b and a >= c:\n",
        "\n",
        "        return a\n",
        "\n",
        "    elif b >= a and b >= c:\n",
        "\n",
        "        return b\n",
        "\n",
        "    else:\n",
        "\n",
        "        return c\n",
        "\n",
        "\n",
        "\n",
        "numbers = input(\"Enter three numbers separated by comma: \")\n",
        "\n",
        "a, b, c = map(int, numbers.split(\",\"))\n",
        "\n",
        "\n",
        "\n",
        "max_num = find_max(a, b, c)\n",
        "\n",
        "\n",
        "\n",
        "print(\"Maximum number is: \", max_num)\n",
        "\n"
      ],
      "metadata": {
        "colab": {
          "base_uri": "https://localhost:8080/"
        },
        "id": "E7FuUcOkR1_F",
        "outputId": "cafcc5d6-8a9f-42dc-d2ad-2ca266ea9760"
      },
      "execution_count": null,
      "outputs": [
        {
          "output_type": "stream",
          "name": "stdout",
          "text": [
            "Enter three numbers separated by comma: 30,12,15\n",
            "Maximum number is:  30\n"
          ]
        }
      ]
    },
    {
      "cell_type": "code",
      "source": [
        "n = 5  # number of rows\n",
        "\n",
        "\n",
        "\n",
        "# print the ascending part of the pattern\n",
        "\n",
        "for i in range(1, n + 1):\n",
        "\n",
        "    print(\"*\" * i)\n",
        "\n",
        "\n",
        "\n",
        "# print the descending part of the pattern\n",
        "\n",
        "for i in range(n - 1, 0, -1):\n",
        "\n",
        "    print(\"*\" * i)"
      ],
      "metadata": {
        "colab": {
          "base_uri": "https://localhost:8080/"
        },
        "id": "uQ-J3CmXR5yl",
        "outputId": "4bf46c38-dadd-40be-e31f-bfaf11504a4a"
      },
      "execution_count": null,
      "outputs": [
        {
          "output_type": "stream",
          "name": "stdout",
          "text": [
            "*\n",
            "**\n",
            "***\n",
            "****\n",
            "*****\n",
            "****\n",
            "***\n",
            "**\n",
            "*\n"
          ]
        }
      ]
    }
  ]
}